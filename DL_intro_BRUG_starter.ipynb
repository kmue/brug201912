{
  "nbformat": 4,
  "nbformat_minor": 0,
  "metadata": {
    "colab": {
      "name": "DL_intro_BRUG_starter.ipynb",
      "provenance": [],
      "collapsed_sections": [],
      "include_colab_link": true
    },
    "language_info": {
      "codemirror_mode": "r",
      "file_extension": ".r",
      "mimetype": "text/x-r-source",
      "name": "R",
      "pygments_lexer": "r",
      "version": "3.3.1"
    },
    "kernelspec": {
      "display_name": "R",
      "language": "R",
      "name": "ir"
    }
  },
  "cells": [
    {
      "cell_type": "markdown",
      "metadata": {
        "id": "view-in-github",
        "colab_type": "text"
      },
      "source": [
        "<a href=\"https://colab.research.google.com/github/kmue/brug201912/blob/master/DL_intro_BRUG_starter.ipynb\" target=\"_parent\"><img src=\"https://colab.research.google.com/assets/colab-badge.svg\" alt=\"Open In Colab\"/></a>"
      ]
    },
    {
      "cell_type": "markdown",
      "metadata": {
        "id": "RH2twg2LOxP1",
        "colab_type": "text"
      },
      "source": [
        "### Installing and loading packages"
      ]
    },
    {
      "cell_type": "code",
      "metadata": {
        "id": "j0QfdGsjbeel",
        "colab_type": "code",
        "colab": {}
      },
      "source": [
        "# This should take ~4mins\n",
        "install.packages(\"caret\")\n",
        "install.packages(\"keras\")"
      ],
      "execution_count": 0,
      "outputs": []
    },
    {
      "cell_type": "code",
      "metadata": {
        "id": "b9HLruyeOxP9",
        "colab_type": "code",
        "colab": {}
      },
      "source": [
        "library(caret)\n",
        "library(tidyverse)\n",
        "library(glue)\n",
        "library(keras)"
      ],
      "execution_count": 0,
      "outputs": []
    },
    {
      "cell_type": "markdown",
      "metadata": {
        "id": "yZ2rATTF0SEU",
        "colab_type": "text"
      },
      "source": [
        "### Loading the data"
      ]
    },
    {
      "cell_type": "code",
      "metadata": {
        "id": "7qn1ITTW0Ue4",
        "colab_type": "code",
        "colab": {}
      },
      "source": [
        "df <- read_csv(\"https://gitlab.com/Nicolabo/airbnbdata/raw/master/listings.csv\")"
      ],
      "execution_count": 0,
      "outputs": []
    },
    {
      "cell_type": "markdown",
      "metadata": {
        "id": "ckGYYMemT0kR",
        "colab_type": "text"
      },
      "source": [
        "### Loading functions"
      ]
    },
    {
      "cell_type": "code",
      "metadata": {
        "id": "hVf_ENVlT3QP",
        "colab_type": "code",
        "colab": {}
      },
      "source": [
        "# Split data to train/ test based on specific list of columns.\n",
        "#\n",
        "# Args:\n",
        "#     data: DataFrame.\n",
        "#     x_cols: Vector of column names\n",
        "#     y_col: Output column name \n",
        "# Returns:\n",
        "#     list of:\n",
        "#         train_data\n",
        "#         test_data\n",
        "#         train_label\n",
        "#         test_label\n",
        "split_data <- function(data, x_cols, y_col) {\n",
        "\n",
        "    # Create unique id\n",
        "    df <- mutate(data, id = row_number())\n",
        "    \n",
        "    # Create training set\n",
        "    set.seed(123)\n",
        "    train <- df %>% sample_frac(.9)\n",
        "    \n",
        "    # Create test set\n",
        "    test <- anti_join(df, train, by = 'id')\n",
        "\n",
        "    # Split predictors and labels\n",
        "    train_data = train %>% select(!! x_cols)\n",
        "    test_data = test %>% select(!! x_cols)\n",
        "    train_label = train %>% select(!! y_col)\n",
        "    test_label = test %>% select(!! y_col)\n",
        "  \n",
        "    list(train_data, test_data, train_label, test_label)\n",
        "}"
      ],
      "execution_count": 0,
      "outputs": []
    },
    {
      "cell_type": "markdown",
      "metadata": {
        "id": "0dhiyoPrPixm",
        "colab_type": "text"
      },
      "source": [
        "### Creating a baseline model"
      ]
    },
    {
      "cell_type": "code",
      "metadata": {
        "id": "WfyPYIhjPnVZ",
        "colab_type": "code",
        "colab": {}
      },
      "source": [
        "# Creating a baseline model predicting that the price will be equal \n",
        "# to the average price in a given neighbourhood.\n",
        "baseline_df <- df %>%\n",
        "  group_by(neighbourhood) %>%\n",
        "  mutate(\n",
        "    diff = abs(price - mean(price))\n",
        "  ) %>% ungroup()\n",
        "  \n",
        "\n",
        "print(glue('The average error of the baseline model is: {round(mean(baseline_df$diff),2)}$.'))"
      ],
      "execution_count": 0,
      "outputs": []
    },
    {
      "cell_type": "markdown",
      "metadata": {
        "id": "_J-fCe2QRSdH",
        "colab_type": "text"
      },
      "source": [
        "### Exercise solutions"
      ]
    },
    {
      "cell_type": "code",
      "metadata": {
        "id": "sY_8BDpXvzbS",
        "colab_type": "code",
        "colab": {}
      },
      "source": [
        ""
      ],
      "execution_count": 0,
      "outputs": []
    }
  ]
}